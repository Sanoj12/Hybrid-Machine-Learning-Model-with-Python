{
 "cells": [
  {
   "cell_type": "code",
   "execution_count": 46,
   "id": "6af3eace-7056-4ff1-9946-06a76e458529",
   "metadata": {},
   "outputs": [],
   "source": [
    "import pandas as pd\n",
    "data =pd.read_csv('AAPL.csv')"
   ]
  },
  {
   "cell_type": "code",
   "execution_count": 256,
   "id": "a17332fa-7af4-410b-a091-7b07b6478ee5",
   "metadata": {},
   "outputs": [],
   "source": [
    "import warnings\n",
    "warnings.simplefilter(\"ignore\", UserWarning)"
   ]
  },
  {
   "cell_type": "code",
   "execution_count": 258,
   "id": "c6edfebd-ca2a-493b-848d-552478806a1e",
   "metadata": {},
   "outputs": [
    {
     "data": {
      "text/html": [
       "<div>\n",
       "<style scoped>\n",
       "    .dataframe tbody tr th:only-of-type {\n",
       "        vertical-align: middle;\n",
       "    }\n",
       "\n",
       "    .dataframe tbody tr th {\n",
       "        vertical-align: top;\n",
       "    }\n",
       "\n",
       "    .dataframe thead th {\n",
       "        text-align: right;\n",
       "    }\n",
       "</style>\n",
       "<table border=\"1\" class=\"dataframe\">\n",
       "  <thead>\n",
       "    <tr style=\"text-align: right;\">\n",
       "      <th></th>\n",
       "      <th>Close</th>\n",
       "      <th>Lag_1</th>\n",
       "      <th>Lag_2</th>\n",
       "      <th>Lag_3</th>\n",
       "    </tr>\n",
       "    <tr>\n",
       "      <th>Date</th>\n",
       "      <th></th>\n",
       "      <th></th>\n",
       "      <th></th>\n",
       "      <th></th>\n",
       "    </tr>\n",
       "  </thead>\n",
       "  <tbody>\n",
       "    <tr>\n",
       "      <th>1980-12-17</th>\n",
       "      <td>0.000365</td>\n",
       "      <td>0.000350</td>\n",
       "      <td>0.000399</td>\n",
       "      <td>0.000435</td>\n",
       "    </tr>\n",
       "    <tr>\n",
       "      <th>1980-12-18</th>\n",
       "      <td>0.000383</td>\n",
       "      <td>0.000365</td>\n",
       "      <td>0.000350</td>\n",
       "      <td>0.000399</td>\n",
       "    </tr>\n",
       "    <tr>\n",
       "      <th>1980-12-19</th>\n",
       "      <td>0.000423</td>\n",
       "      <td>0.000383</td>\n",
       "      <td>0.000365</td>\n",
       "      <td>0.000350</td>\n",
       "    </tr>\n",
       "    <tr>\n",
       "      <th>1980-12-22</th>\n",
       "      <td>0.000457</td>\n",
       "      <td>0.000423</td>\n",
       "      <td>0.000383</td>\n",
       "      <td>0.000365</td>\n",
       "    </tr>\n",
       "    <tr>\n",
       "      <th>1980-12-23</th>\n",
       "      <td>0.000488</td>\n",
       "      <td>0.000457</td>\n",
       "      <td>0.000423</td>\n",
       "      <td>0.000383</td>\n",
       "    </tr>\n",
       "  </tbody>\n",
       "</table>\n",
       "</div>"
      ],
      "text/plain": [
       "               Close     Lag_1     Lag_2     Lag_3\n",
       "Date                                              \n",
       "1980-12-17  0.000365  0.000350  0.000399  0.000435\n",
       "1980-12-18  0.000383  0.000365  0.000350  0.000399\n",
       "1980-12-19  0.000423  0.000383  0.000365  0.000350\n",
       "1980-12-22  0.000457  0.000423  0.000383  0.000365\n",
       "1980-12-23  0.000488  0.000457  0.000423  0.000383"
      ]
     },
     "execution_count": 258,
     "metadata": {},
     "output_type": "execute_result"
    }
   ],
   "source": [
    "data.head()"
   ]
  },
  {
   "cell_type": "code",
   "execution_count": 50,
   "id": "53fa3c30-951a-44d3-a47e-cb56c2f19674",
   "metadata": {},
   "outputs": [],
   "source": [
    "data.columns = data.columns.str.strip()\n"
   ]
  },
  {
   "cell_type": "code",
   "execution_count": 52,
   "id": "dcec9929-c8e9-423b-a03a-a126eb56d14b",
   "metadata": {},
   "outputs": [
    {
     "name": "stdout",
     "output_type": "stream",
     "text": [
      "Index(['Date', 'Open', 'High', 'Low', 'Close', 'Adj Close', 'Volume'], dtype='object')\n"
     ]
    }
   ],
   "source": [
    "print(data.columns)"
   ]
  },
  {
   "cell_type": "markdown",
   "id": "b2cfa849-cdd2-446e-89cf-f93b48fb4fc3",
   "metadata": {},
   "source": [
    "Convert 'Date' column to datetime format.......\n",
    "date columns in datasets are stored as strings, making it difficult to perform time-based operations.\n",
    "\n"
   ]
  },
  {
   "cell_type": "code",
   "execution_count": 55,
   "id": "ed6dfa77-9461-40b4-aca5-645f0a5ba5eb",
   "metadata": {},
   "outputs": [],
   "source": [
    "data['Date'] = pd.to_datetime(data['Date'])\n",
    "data.set_index('Date', inplace=True)\n",
    "data = data[['Close']]"
   ]
  },
  {
   "cell_type": "code",
   "execution_count": 57,
   "id": "f6d58701-5be3-49fe-b0e6-ee3d3af30c52",
   "metadata": {
    "scrolled": true
   },
   "outputs": [
    {
     "name": "stdout",
     "output_type": "stream",
     "text": [
      "                 Close\n",
      "Date                  \n",
      "1980-12-12    0.128348\n",
      "1980-12-15    0.121652\n",
      "1980-12-16    0.112723\n",
      "1980-12-17    0.115513\n",
      "1980-12-18    0.118862\n",
      "...                ...\n",
      "2022-03-18  163.979996\n",
      "2022-03-21  165.380005\n",
      "2022-03-22  168.820007\n",
      "2022-03-23  170.210007\n",
      "2022-03-24  174.070007\n",
      "\n",
      "[10409 rows x 1 columns]\n"
     ]
    }
   ],
   "source": [
    "print(data)"
   ]
  },
  {
   "cell_type": "code",
   "execution_count": 59,
   "id": "c6b6b12e-bfa7-4599-8e31-ac46951c956f",
   "metadata": {},
   "outputs": [],
   "source": [
    "from sklearn.preprocessing import MinMaxScaler\n",
    "scaler = MinMaxScaler(feature_range=(0,1))\n",
    "data['Close'] = scaler.fit_transform(data[['Close']])\n"
   ]
  },
  {
   "cell_type": "code",
   "execution_count": 61,
   "id": "be56c812-6787-42fb-8d3d-ddbad1b037cc",
   "metadata": {},
   "outputs": [
    {
     "data": {
      "text/plain": [
       "Date\n",
       "1980-12-12    0.000435\n",
       "1980-12-15    0.000399\n",
       "1980-12-16    0.000350\n",
       "1980-12-17    0.000365\n",
       "1980-12-18    0.000383\n",
       "                ...   \n",
       "2022-03-18    0.900913\n",
       "2022-03-21    0.908607\n",
       "2022-03-22    0.927512\n",
       "2022-03-23    0.935151\n",
       "2022-03-24    0.956364\n",
       "Name: Close, Length: 10409, dtype: float64"
      ]
     },
     "execution_count": 61,
     "metadata": {},
     "output_type": "execute_result"
    }
   ],
   "source": [
    "data['Close']"
   ]
  },
  {
   "cell_type": "code",
   "execution_count": 67,
   "id": "d4b23975-d309-4406-91ab-9350dc44ef58",
   "metadata": {},
   "outputs": [],
   "source": [
    "import numpy as np\n",
    "\n",
    "def create_sequence(data,seq_length=60):\n",
    "    X,y = [],[]\n",
    "    for i in range(len(data) - seq_length):\n",
    "        X.append(data[i:i+seq_length])\n",
    "        y.append(data[i+seq_length])\n",
    "\n",
    "    return np.array(X) ,np.array(y)\n",
    "\n",
    "seq_length =60\n",
    "X,y = create_sequence(data['Close'].values , seq_length)"
   ]
  },
  {
   "cell_type": "code",
   "execution_count": 69,
   "id": "66e03081-3f96-437f-b7c7-2077b15a3fcf",
   "metadata": {},
   "outputs": [],
   "source": [
    "##split th sequences into training and test sets\n",
    "train_size = int(len(X) * 0.8)\n",
    "\n",
    "X_train , X_test = X[:train_size] ,X[train_size:]\n",
    "\n",
    "y_train , y_test = y[:train_size] ,y[train_size:]"
   ]
  },
  {
   "cell_type": "code",
   "execution_count": 75,
   "id": "3a309da5-536d-41e2-a2e7-b64c6029ff13",
   "metadata": {},
   "outputs": [],
   "source": [
    "##build a sequential lstm  layer\n",
    "from tensorflow.keras.models import Sequential ##models layer by layer\n",
    "from tensorflow.keras.layers import LSTM, Dense ##dense -A fully connnected layer for final predictions\n",
    "\n"
   ]
  },
  {
   "cell_type": "code",
   "execution_count": 79,
   "id": "6ef32c93-bd04-40f8-949c-cd21bddb7d20",
   "metadata": {},
   "outputs": [
    {
     "name": "stderr",
     "output_type": "stream",
     "text": [
      "C:\\Users\\sanoj\\anaconda3\\new\\Lib\\site-packages\\keras\\src\\layers\\rnn\\rnn.py:204: UserWarning: Do not pass an `input_shape`/`input_dim` argument to a layer. When using Sequential models, prefer using an `Input(shape)` object as the first layer in the model instead.\n",
      "  super().__init__(**kwargs)\n"
     ]
    }
   ],
   "source": [
    "lstm_model =Sequential()   #sequential model where layers will be added one after another.\n",
    "\n",
    "lstm_model.add(LSTM(units=50 , return_sequences=True,input_shape=(X_train.shape[1],1))) #x_train.shape = (800,60,1)\n",
    "lstm_model.add(LSTM(units=50)) ##second layer(final layer)\n",
    "\n",
    "lstm_model.add(Dense(1))\n"
   ]
  },
  {
   "cell_type": "code",
   "execution_count": 81,
   "id": "eb4c4376-2edb-4467-b385-95e664052785",
   "metadata": {},
   "outputs": [
    {
     "name": "stdout",
     "output_type": "stream",
     "text": [
      "Epoch 1/10\n",
      "\u001b[1m259/259\u001b[0m \u001b[32m━━━━━━━━━━━━━━━━━━━━\u001b[0m\u001b[37m\u001b[0m \u001b[1m11s\u001b[0m 26ms/step - loss: 1.0872e-04\n",
      "Epoch 2/10\n",
      "\u001b[1m259/259\u001b[0m \u001b[32m━━━━━━━━━━━━━━━━━━━━\u001b[0m\u001b[37m\u001b[0m \u001b[1m7s\u001b[0m 26ms/step - loss: 2.6726e-06\n",
      "Epoch 3/10\n",
      "\u001b[1m259/259\u001b[0m \u001b[32m━━━━━━━━━━━━━━━━━━━━\u001b[0m\u001b[37m\u001b[0m \u001b[1m7s\u001b[0m 26ms/step - loss: 2.5259e-06\n",
      "Epoch 4/10\n",
      "\u001b[1m259/259\u001b[0m \u001b[32m━━━━━━━━━━━━━━━━━━━━\u001b[0m\u001b[37m\u001b[0m \u001b[1m7s\u001b[0m 26ms/step - loss: 2.3734e-06\n",
      "Epoch 5/10\n",
      "\u001b[1m259/259\u001b[0m \u001b[32m━━━━━━━━━━━━━━━━━━━━\u001b[0m\u001b[37m\u001b[0m \u001b[1m7s\u001b[0m 26ms/step - loss: 2.3789e-06\n",
      "Epoch 6/10\n",
      "\u001b[1m259/259\u001b[0m \u001b[32m━━━━━━━━━━━━━━━━━━━━\u001b[0m\u001b[37m\u001b[0m \u001b[1m7s\u001b[0m 27ms/step - loss: 1.8730e-06\n",
      "Epoch 7/10\n",
      "\u001b[1m259/259\u001b[0m \u001b[32m━━━━━━━━━━━━━━━━━━━━\u001b[0m\u001b[37m\u001b[0m \u001b[1m7s\u001b[0m 26ms/step - loss: 1.5290e-06\n",
      "Epoch 8/10\n",
      "\u001b[1m259/259\u001b[0m \u001b[32m━━━━━━━━━━━━━━━━━━━━\u001b[0m\u001b[37m\u001b[0m \u001b[1m7s\u001b[0m 26ms/step - loss: 1.7246e-06\n",
      "Epoch 9/10\n",
      "\u001b[1m259/259\u001b[0m \u001b[32m━━━━━━━━━━━━━━━━━━━━\u001b[0m\u001b[37m\u001b[0m \u001b[1m7s\u001b[0m 26ms/step - loss: 3.1969e-06\n",
      "Epoch 10/10\n",
      "\u001b[1m259/259\u001b[0m \u001b[32m━━━━━━━━━━━━━━━━━━━━\u001b[0m\u001b[37m\u001b[0m \u001b[1m7s\u001b[0m 26ms/step - loss: 1.4735e-06\n"
     ]
    },
    {
     "data": {
      "text/plain": [
       "<keras.src.callbacks.history.History at 0x208236d3020>"
      ]
     },
     "execution_count": 81,
     "metadata": {},
     "output_type": "execute_result"
    }
   ],
   "source": [
    "###OPTIMIZER AND LOSS FN\n",
    "lstm_model.compile(optimizer='adam', loss='mean_squared_error')\n",
    "lstm_model.fit(X_train, y_train, epochs=10, batch_size=32)"
   ]
  },
  {
   "cell_type": "code",
   "execution_count": 83,
   "id": "f9576e13-9875-499a-ab37-825b122e59ba",
   "metadata": {},
   "outputs": [],
   "source": [
    "####LAG FEATURE FOR TIME SERIES FORECASTING   PAST 3 DAYS    FROM PAST TRENDS\n",
    "\n",
    "data['Lag_1'] = data['Close'].shift(1)\n",
    "data['Lag_2'] = data['Close'].shift(2)\n",
    "data['Lag_3'] = data['Close'].shift(3)\n",
    "data = data.dropna()"
   ]
  },
  {
   "cell_type": "code",
   "execution_count": 85,
   "id": "95860815-9448-4632-bfe2-d5137d37ebfe",
   "metadata": {},
   "outputs": [
    {
     "data": {
      "text/html": [
       "<div>\n",
       "<style scoped>\n",
       "    .dataframe tbody tr th:only-of-type {\n",
       "        vertical-align: middle;\n",
       "    }\n",
       "\n",
       "    .dataframe tbody tr th {\n",
       "        vertical-align: top;\n",
       "    }\n",
       "\n",
       "    .dataframe thead th {\n",
       "        text-align: right;\n",
       "    }\n",
       "</style>\n",
       "<table border=\"1\" class=\"dataframe\">\n",
       "  <thead>\n",
       "    <tr style=\"text-align: right;\">\n",
       "      <th></th>\n",
       "      <th>Close</th>\n",
       "      <th>Lag_1</th>\n",
       "      <th>Lag_2</th>\n",
       "      <th>Lag_3</th>\n",
       "    </tr>\n",
       "    <tr>\n",
       "      <th>Date</th>\n",
       "      <th></th>\n",
       "      <th></th>\n",
       "      <th></th>\n",
       "      <th></th>\n",
       "    </tr>\n",
       "  </thead>\n",
       "  <tbody>\n",
       "    <tr>\n",
       "      <th>1980-12-17</th>\n",
       "      <td>0.000365</td>\n",
       "      <td>0.000350</td>\n",
       "      <td>0.000399</td>\n",
       "      <td>0.000435</td>\n",
       "    </tr>\n",
       "    <tr>\n",
       "      <th>1980-12-18</th>\n",
       "      <td>0.000383</td>\n",
       "      <td>0.000365</td>\n",
       "      <td>0.000350</td>\n",
       "      <td>0.000399</td>\n",
       "    </tr>\n",
       "    <tr>\n",
       "      <th>1980-12-19</th>\n",
       "      <td>0.000423</td>\n",
       "      <td>0.000383</td>\n",
       "      <td>0.000365</td>\n",
       "      <td>0.000350</td>\n",
       "    </tr>\n",
       "    <tr>\n",
       "      <th>1980-12-22</th>\n",
       "      <td>0.000457</td>\n",
       "      <td>0.000423</td>\n",
       "      <td>0.000383</td>\n",
       "      <td>0.000365</td>\n",
       "    </tr>\n",
       "    <tr>\n",
       "      <th>1980-12-23</th>\n",
       "      <td>0.000488</td>\n",
       "      <td>0.000457</td>\n",
       "      <td>0.000423</td>\n",
       "      <td>0.000383</td>\n",
       "    </tr>\n",
       "    <tr>\n",
       "      <th>...</th>\n",
       "      <td>...</td>\n",
       "      <td>...</td>\n",
       "      <td>...</td>\n",
       "      <td>...</td>\n",
       "    </tr>\n",
       "    <tr>\n",
       "      <th>2022-03-18</th>\n",
       "      <td>0.900913</td>\n",
       "      <td>0.882447</td>\n",
       "      <td>0.876787</td>\n",
       "      <td>0.852056</td>\n",
       "    </tr>\n",
       "    <tr>\n",
       "      <th>2022-03-21</th>\n",
       "      <td>0.908607</td>\n",
       "      <td>0.900913</td>\n",
       "      <td>0.882447</td>\n",
       "      <td>0.876787</td>\n",
       "    </tr>\n",
       "    <tr>\n",
       "      <th>2022-03-22</th>\n",
       "      <td>0.927512</td>\n",
       "      <td>0.908607</td>\n",
       "      <td>0.900913</td>\n",
       "      <td>0.882447</td>\n",
       "    </tr>\n",
       "    <tr>\n",
       "      <th>2022-03-23</th>\n",
       "      <td>0.935151</td>\n",
       "      <td>0.927512</td>\n",
       "      <td>0.908607</td>\n",
       "      <td>0.900913</td>\n",
       "    </tr>\n",
       "    <tr>\n",
       "      <th>2022-03-24</th>\n",
       "      <td>0.956364</td>\n",
       "      <td>0.935151</td>\n",
       "      <td>0.927512</td>\n",
       "      <td>0.908607</td>\n",
       "    </tr>\n",
       "  </tbody>\n",
       "</table>\n",
       "<p>10406 rows × 4 columns</p>\n",
       "</div>"
      ],
      "text/plain": [
       "               Close     Lag_1     Lag_2     Lag_3\n",
       "Date                                              \n",
       "1980-12-17  0.000365  0.000350  0.000399  0.000435\n",
       "1980-12-18  0.000383  0.000365  0.000350  0.000399\n",
       "1980-12-19  0.000423  0.000383  0.000365  0.000350\n",
       "1980-12-22  0.000457  0.000423  0.000383  0.000365\n",
       "1980-12-23  0.000488  0.000457  0.000423  0.000383\n",
       "...              ...       ...       ...       ...\n",
       "2022-03-18  0.900913  0.882447  0.876787  0.852056\n",
       "2022-03-21  0.908607  0.900913  0.882447  0.876787\n",
       "2022-03-22  0.927512  0.908607  0.900913  0.882447\n",
       "2022-03-23  0.935151  0.927512  0.908607  0.900913\n",
       "2022-03-24  0.956364  0.935151  0.927512  0.908607\n",
       "\n",
       "[10406 rows x 4 columns]"
      ]
     },
     "execution_count": 85,
     "metadata": {},
     "output_type": "execute_result"
    }
   ],
   "source": [
    "data"
   ]
  },
  {
   "cell_type": "code",
   "execution_count": 89,
   "id": "c734b166-0134-4a2b-9a1e-75e0de645e57",
   "metadata": {},
   "outputs": [],
   "source": [
    "##for linear regression\n",
    "\n",
    "X_lin = data[['Lag_1','Lag_2','Lag_3']]\n",
    "y_lin = data['Close']"
   ]
  },
  {
   "cell_type": "code",
   "execution_count": 93,
   "id": "21735c03-3e6a-499b-95db-ae2ccf185dbf",
   "metadata": {},
   "outputs": [
    {
     "data": {
      "text/html": [
       "<div>\n",
       "<style scoped>\n",
       "    .dataframe tbody tr th:only-of-type {\n",
       "        vertical-align: middle;\n",
       "    }\n",
       "\n",
       "    .dataframe tbody tr th {\n",
       "        vertical-align: top;\n",
       "    }\n",
       "\n",
       "    .dataframe thead th {\n",
       "        text-align: right;\n",
       "    }\n",
       "</style>\n",
       "<table border=\"1\" class=\"dataframe\">\n",
       "  <thead>\n",
       "    <tr style=\"text-align: right;\">\n",
       "      <th></th>\n",
       "      <th>Lag_1</th>\n",
       "      <th>Lag_2</th>\n",
       "      <th>Lag_3</th>\n",
       "    </tr>\n",
       "    <tr>\n",
       "      <th>Date</th>\n",
       "      <th></th>\n",
       "      <th></th>\n",
       "      <th></th>\n",
       "    </tr>\n",
       "  </thead>\n",
       "  <tbody>\n",
       "    <tr>\n",
       "      <th>1980-12-17</th>\n",
       "      <td>0.000350</td>\n",
       "      <td>0.000399</td>\n",
       "      <td>0.000435</td>\n",
       "    </tr>\n",
       "    <tr>\n",
       "      <th>1980-12-18</th>\n",
       "      <td>0.000365</td>\n",
       "      <td>0.000350</td>\n",
       "      <td>0.000399</td>\n",
       "    </tr>\n",
       "    <tr>\n",
       "      <th>1980-12-19</th>\n",
       "      <td>0.000383</td>\n",
       "      <td>0.000365</td>\n",
       "      <td>0.000350</td>\n",
       "    </tr>\n",
       "    <tr>\n",
       "      <th>1980-12-22</th>\n",
       "      <td>0.000423</td>\n",
       "      <td>0.000383</td>\n",
       "      <td>0.000365</td>\n",
       "    </tr>\n",
       "    <tr>\n",
       "      <th>1980-12-23</th>\n",
       "      <td>0.000457</td>\n",
       "      <td>0.000423</td>\n",
       "      <td>0.000383</td>\n",
       "    </tr>\n",
       "    <tr>\n",
       "      <th>...</th>\n",
       "      <td>...</td>\n",
       "      <td>...</td>\n",
       "      <td>...</td>\n",
       "    </tr>\n",
       "    <tr>\n",
       "      <th>2022-03-18</th>\n",
       "      <td>0.882447</td>\n",
       "      <td>0.876787</td>\n",
       "      <td>0.852056</td>\n",
       "    </tr>\n",
       "    <tr>\n",
       "      <th>2022-03-21</th>\n",
       "      <td>0.900913</td>\n",
       "      <td>0.882447</td>\n",
       "      <td>0.876787</td>\n",
       "    </tr>\n",
       "    <tr>\n",
       "      <th>2022-03-22</th>\n",
       "      <td>0.908607</td>\n",
       "      <td>0.900913</td>\n",
       "      <td>0.882447</td>\n",
       "    </tr>\n",
       "    <tr>\n",
       "      <th>2022-03-23</th>\n",
       "      <td>0.927512</td>\n",
       "      <td>0.908607</td>\n",
       "      <td>0.900913</td>\n",
       "    </tr>\n",
       "    <tr>\n",
       "      <th>2022-03-24</th>\n",
       "      <td>0.935151</td>\n",
       "      <td>0.927512</td>\n",
       "      <td>0.908607</td>\n",
       "    </tr>\n",
       "  </tbody>\n",
       "</table>\n",
       "<p>10406 rows × 3 columns</p>\n",
       "</div>"
      ],
      "text/plain": [
       "               Lag_1     Lag_2     Lag_3\n",
       "Date                                    \n",
       "1980-12-17  0.000350  0.000399  0.000435\n",
       "1980-12-18  0.000365  0.000350  0.000399\n",
       "1980-12-19  0.000383  0.000365  0.000350\n",
       "1980-12-22  0.000423  0.000383  0.000365\n",
       "1980-12-23  0.000457  0.000423  0.000383\n",
       "...              ...       ...       ...\n",
       "2022-03-18  0.882447  0.876787  0.852056\n",
       "2022-03-21  0.900913  0.882447  0.876787\n",
       "2022-03-22  0.908607  0.900913  0.882447\n",
       "2022-03-23  0.927512  0.908607  0.900913\n",
       "2022-03-24  0.935151  0.927512  0.908607\n",
       "\n",
       "[10406 rows x 3 columns]"
      ]
     },
     "execution_count": 93,
     "metadata": {},
     "output_type": "execute_result"
    }
   ],
   "source": [
    "X_lin"
   ]
  },
  {
   "cell_type": "code",
   "execution_count": 95,
   "id": "fd5f34d2-ca2b-47e3-bf8e-8ca238c0f2b1",
   "metadata": {},
   "outputs": [],
   "source": [
    "X_train_lin, X_test_lin = X_lin[:train_size], X_lin[train_size:]\n",
    "y_train_lin, y_test_lin = y_lin[:train_size], y_lin[train_size:]"
   ]
  },
  {
   "cell_type": "code",
   "execution_count": 99,
   "id": "e92545ce-9246-4cbe-b2fd-12e10cab6c75",
   "metadata": {},
   "outputs": [
    {
     "data": {
      "text/plain": [
       "(8279, 60)"
      ]
     },
     "execution_count": 99,
     "metadata": {},
     "output_type": "execute_result"
    }
   ],
   "source": [
    "X_train.shape"
   ]
  },
  {
   "cell_type": "code",
   "execution_count": 101,
   "id": "b8d1d55f-a65b-4fbb-8a13-f9a1015a018c",
   "metadata": {},
   "outputs": [
    {
     "data": {
      "text/plain": [
       "(8279,)"
      ]
     },
     "execution_count": 101,
     "metadata": {},
     "output_type": "execute_result"
    }
   ],
   "source": [
    "y_train.shape"
   ]
  },
  {
   "cell_type": "code",
   "execution_count": 103,
   "id": "7d1062b1-5033-407d-b0bd-96e36c4925b2",
   "metadata": {},
   "outputs": [
    {
     "data": {
      "text/plain": [
       "(2070, 60)"
      ]
     },
     "execution_count": 103,
     "metadata": {},
     "output_type": "execute_result"
    }
   ],
   "source": [
    "X_test.shape"
   ]
  },
  {
   "cell_type": "code",
   "execution_count": 105,
   "id": "91b6f928-d03d-42ae-bf67-4b8d52fbf154",
   "metadata": {},
   "outputs": [
    {
     "data": {
      "text/plain": [
       "(2070,)"
      ]
     },
     "execution_count": 105,
     "metadata": {},
     "output_type": "execute_result"
    }
   ],
   "source": [
    "y_test.shape"
   ]
  },
  {
   "cell_type": "code",
   "execution_count": 107,
   "id": "f7b2e7a5-f531-4078-8d94-aff7ad965bd3",
   "metadata": {},
   "outputs": [
    {
     "data": {
      "text/html": [
       "<style>#sk-container-id-1 {\n",
       "  /* Definition of color scheme common for light and dark mode */\n",
       "  --sklearn-color-text: black;\n",
       "  --sklearn-color-line: gray;\n",
       "  /* Definition of color scheme for unfitted estimators */\n",
       "  --sklearn-color-unfitted-level-0: #fff5e6;\n",
       "  --sklearn-color-unfitted-level-1: #f6e4d2;\n",
       "  --sklearn-color-unfitted-level-2: #ffe0b3;\n",
       "  --sklearn-color-unfitted-level-3: chocolate;\n",
       "  /* Definition of color scheme for fitted estimators */\n",
       "  --sklearn-color-fitted-level-0: #f0f8ff;\n",
       "  --sklearn-color-fitted-level-1: #d4ebff;\n",
       "  --sklearn-color-fitted-level-2: #b3dbfd;\n",
       "  --sklearn-color-fitted-level-3: cornflowerblue;\n",
       "\n",
       "  /* Specific color for light theme */\n",
       "  --sklearn-color-text-on-default-background: var(--sg-text-color, var(--theme-code-foreground, var(--jp-content-font-color1, black)));\n",
       "  --sklearn-color-background: var(--sg-background-color, var(--theme-background, var(--jp-layout-color0, white)));\n",
       "  --sklearn-color-border-box: var(--sg-text-color, var(--theme-code-foreground, var(--jp-content-font-color1, black)));\n",
       "  --sklearn-color-icon: #696969;\n",
       "\n",
       "  @media (prefers-color-scheme: dark) {\n",
       "    /* Redefinition of color scheme for dark theme */\n",
       "    --sklearn-color-text-on-default-background: var(--sg-text-color, var(--theme-code-foreground, var(--jp-content-font-color1, white)));\n",
       "    --sklearn-color-background: var(--sg-background-color, var(--theme-background, var(--jp-layout-color0, #111)));\n",
       "    --sklearn-color-border-box: var(--sg-text-color, var(--theme-code-foreground, var(--jp-content-font-color1, white)));\n",
       "    --sklearn-color-icon: #878787;\n",
       "  }\n",
       "}\n",
       "\n",
       "#sk-container-id-1 {\n",
       "  color: var(--sklearn-color-text);\n",
       "}\n",
       "\n",
       "#sk-container-id-1 pre {\n",
       "  padding: 0;\n",
       "}\n",
       "\n",
       "#sk-container-id-1 input.sk-hidden--visually {\n",
       "  border: 0;\n",
       "  clip: rect(1px 1px 1px 1px);\n",
       "  clip: rect(1px, 1px, 1px, 1px);\n",
       "  height: 1px;\n",
       "  margin: -1px;\n",
       "  overflow: hidden;\n",
       "  padding: 0;\n",
       "  position: absolute;\n",
       "  width: 1px;\n",
       "}\n",
       "\n",
       "#sk-container-id-1 div.sk-dashed-wrapped {\n",
       "  border: 1px dashed var(--sklearn-color-line);\n",
       "  margin: 0 0.4em 0.5em 0.4em;\n",
       "  box-sizing: border-box;\n",
       "  padding-bottom: 0.4em;\n",
       "  background-color: var(--sklearn-color-background);\n",
       "}\n",
       "\n",
       "#sk-container-id-1 div.sk-container {\n",
       "  /* jupyter's `normalize.less` sets `[hidden] { display: none; }`\n",
       "     but bootstrap.min.css set `[hidden] { display: none !important; }`\n",
       "     so we also need the `!important` here to be able to override the\n",
       "     default hidden behavior on the sphinx rendered scikit-learn.org.\n",
       "     See: https://github.com/scikit-learn/scikit-learn/issues/21755 */\n",
       "  display: inline-block !important;\n",
       "  position: relative;\n",
       "}\n",
       "\n",
       "#sk-container-id-1 div.sk-text-repr-fallback {\n",
       "  display: none;\n",
       "}\n",
       "\n",
       "div.sk-parallel-item,\n",
       "div.sk-serial,\n",
       "div.sk-item {\n",
       "  /* draw centered vertical line to link estimators */\n",
       "  background-image: linear-gradient(var(--sklearn-color-text-on-default-background), var(--sklearn-color-text-on-default-background));\n",
       "  background-size: 2px 100%;\n",
       "  background-repeat: no-repeat;\n",
       "  background-position: center center;\n",
       "}\n",
       "\n",
       "/* Parallel-specific style estimator block */\n",
       "\n",
       "#sk-container-id-1 div.sk-parallel-item::after {\n",
       "  content: \"\";\n",
       "  width: 100%;\n",
       "  border-bottom: 2px solid var(--sklearn-color-text-on-default-background);\n",
       "  flex-grow: 1;\n",
       "}\n",
       "\n",
       "#sk-container-id-1 div.sk-parallel {\n",
       "  display: flex;\n",
       "  align-items: stretch;\n",
       "  justify-content: center;\n",
       "  background-color: var(--sklearn-color-background);\n",
       "  position: relative;\n",
       "}\n",
       "\n",
       "#sk-container-id-1 div.sk-parallel-item {\n",
       "  display: flex;\n",
       "  flex-direction: column;\n",
       "}\n",
       "\n",
       "#sk-container-id-1 div.sk-parallel-item:first-child::after {\n",
       "  align-self: flex-end;\n",
       "  width: 50%;\n",
       "}\n",
       "\n",
       "#sk-container-id-1 div.sk-parallel-item:last-child::after {\n",
       "  align-self: flex-start;\n",
       "  width: 50%;\n",
       "}\n",
       "\n",
       "#sk-container-id-1 div.sk-parallel-item:only-child::after {\n",
       "  width: 0;\n",
       "}\n",
       "\n",
       "/* Serial-specific style estimator block */\n",
       "\n",
       "#sk-container-id-1 div.sk-serial {\n",
       "  display: flex;\n",
       "  flex-direction: column;\n",
       "  align-items: center;\n",
       "  background-color: var(--sklearn-color-background);\n",
       "  padding-right: 1em;\n",
       "  padding-left: 1em;\n",
       "}\n",
       "\n",
       "\n",
       "/* Toggleable style: style used for estimator/Pipeline/ColumnTransformer box that is\n",
       "clickable and can be expanded/collapsed.\n",
       "- Pipeline and ColumnTransformer use this feature and define the default style\n",
       "- Estimators will overwrite some part of the style using the `sk-estimator` class\n",
       "*/\n",
       "\n",
       "/* Pipeline and ColumnTransformer style (default) */\n",
       "\n",
       "#sk-container-id-1 div.sk-toggleable {\n",
       "  /* Default theme specific background. It is overwritten whether we have a\n",
       "  specific estimator or a Pipeline/ColumnTransformer */\n",
       "  background-color: var(--sklearn-color-background);\n",
       "}\n",
       "\n",
       "/* Toggleable label */\n",
       "#sk-container-id-1 label.sk-toggleable__label {\n",
       "  cursor: pointer;\n",
       "  display: block;\n",
       "  width: 100%;\n",
       "  margin-bottom: 0;\n",
       "  padding: 0.5em;\n",
       "  box-sizing: border-box;\n",
       "  text-align: center;\n",
       "}\n",
       "\n",
       "#sk-container-id-1 label.sk-toggleable__label-arrow:before {\n",
       "  /* Arrow on the left of the label */\n",
       "  content: \"▸\";\n",
       "  float: left;\n",
       "  margin-right: 0.25em;\n",
       "  color: var(--sklearn-color-icon);\n",
       "}\n",
       "\n",
       "#sk-container-id-1 label.sk-toggleable__label-arrow:hover:before {\n",
       "  color: var(--sklearn-color-text);\n",
       "}\n",
       "\n",
       "/* Toggleable content - dropdown */\n",
       "\n",
       "#sk-container-id-1 div.sk-toggleable__content {\n",
       "  max-height: 0;\n",
       "  max-width: 0;\n",
       "  overflow: hidden;\n",
       "  text-align: left;\n",
       "  /* unfitted */\n",
       "  background-color: var(--sklearn-color-unfitted-level-0);\n",
       "}\n",
       "\n",
       "#sk-container-id-1 div.sk-toggleable__content.fitted {\n",
       "  /* fitted */\n",
       "  background-color: var(--sklearn-color-fitted-level-0);\n",
       "}\n",
       "\n",
       "#sk-container-id-1 div.sk-toggleable__content pre {\n",
       "  margin: 0.2em;\n",
       "  border-radius: 0.25em;\n",
       "  color: var(--sklearn-color-text);\n",
       "  /* unfitted */\n",
       "  background-color: var(--sklearn-color-unfitted-level-0);\n",
       "}\n",
       "\n",
       "#sk-container-id-1 div.sk-toggleable__content.fitted pre {\n",
       "  /* unfitted */\n",
       "  background-color: var(--sklearn-color-fitted-level-0);\n",
       "}\n",
       "\n",
       "#sk-container-id-1 input.sk-toggleable__control:checked~div.sk-toggleable__content {\n",
       "  /* Expand drop-down */\n",
       "  max-height: 200px;\n",
       "  max-width: 100%;\n",
       "  overflow: auto;\n",
       "}\n",
       "\n",
       "#sk-container-id-1 input.sk-toggleable__control:checked~label.sk-toggleable__label-arrow:before {\n",
       "  content: \"▾\";\n",
       "}\n",
       "\n",
       "/* Pipeline/ColumnTransformer-specific style */\n",
       "\n",
       "#sk-container-id-1 div.sk-label input.sk-toggleable__control:checked~label.sk-toggleable__label {\n",
       "  color: var(--sklearn-color-text);\n",
       "  background-color: var(--sklearn-color-unfitted-level-2);\n",
       "}\n",
       "\n",
       "#sk-container-id-1 div.sk-label.fitted input.sk-toggleable__control:checked~label.sk-toggleable__label {\n",
       "  background-color: var(--sklearn-color-fitted-level-2);\n",
       "}\n",
       "\n",
       "/* Estimator-specific style */\n",
       "\n",
       "/* Colorize estimator box */\n",
       "#sk-container-id-1 div.sk-estimator input.sk-toggleable__control:checked~label.sk-toggleable__label {\n",
       "  /* unfitted */\n",
       "  background-color: var(--sklearn-color-unfitted-level-2);\n",
       "}\n",
       "\n",
       "#sk-container-id-1 div.sk-estimator.fitted input.sk-toggleable__control:checked~label.sk-toggleable__label {\n",
       "  /* fitted */\n",
       "  background-color: var(--sklearn-color-fitted-level-2);\n",
       "}\n",
       "\n",
       "#sk-container-id-1 div.sk-label label.sk-toggleable__label,\n",
       "#sk-container-id-1 div.sk-label label {\n",
       "  /* The background is the default theme color */\n",
       "  color: var(--sklearn-color-text-on-default-background);\n",
       "}\n",
       "\n",
       "/* On hover, darken the color of the background */\n",
       "#sk-container-id-1 div.sk-label:hover label.sk-toggleable__label {\n",
       "  color: var(--sklearn-color-text);\n",
       "  background-color: var(--sklearn-color-unfitted-level-2);\n",
       "}\n",
       "\n",
       "/* Label box, darken color on hover, fitted */\n",
       "#sk-container-id-1 div.sk-label.fitted:hover label.sk-toggleable__label.fitted {\n",
       "  color: var(--sklearn-color-text);\n",
       "  background-color: var(--sklearn-color-fitted-level-2);\n",
       "}\n",
       "\n",
       "/* Estimator label */\n",
       "\n",
       "#sk-container-id-1 div.sk-label label {\n",
       "  font-family: monospace;\n",
       "  font-weight: bold;\n",
       "  display: inline-block;\n",
       "  line-height: 1.2em;\n",
       "}\n",
       "\n",
       "#sk-container-id-1 div.sk-label-container {\n",
       "  text-align: center;\n",
       "}\n",
       "\n",
       "/* Estimator-specific */\n",
       "#sk-container-id-1 div.sk-estimator {\n",
       "  font-family: monospace;\n",
       "  border: 1px dotted var(--sklearn-color-border-box);\n",
       "  border-radius: 0.25em;\n",
       "  box-sizing: border-box;\n",
       "  margin-bottom: 0.5em;\n",
       "  /* unfitted */\n",
       "  background-color: var(--sklearn-color-unfitted-level-0);\n",
       "}\n",
       "\n",
       "#sk-container-id-1 div.sk-estimator.fitted {\n",
       "  /* fitted */\n",
       "  background-color: var(--sklearn-color-fitted-level-0);\n",
       "}\n",
       "\n",
       "/* on hover */\n",
       "#sk-container-id-1 div.sk-estimator:hover {\n",
       "  /* unfitted */\n",
       "  background-color: var(--sklearn-color-unfitted-level-2);\n",
       "}\n",
       "\n",
       "#sk-container-id-1 div.sk-estimator.fitted:hover {\n",
       "  /* fitted */\n",
       "  background-color: var(--sklearn-color-fitted-level-2);\n",
       "}\n",
       "\n",
       "/* Specification for estimator info (e.g. \"i\" and \"?\") */\n",
       "\n",
       "/* Common style for \"i\" and \"?\" */\n",
       "\n",
       ".sk-estimator-doc-link,\n",
       "a:link.sk-estimator-doc-link,\n",
       "a:visited.sk-estimator-doc-link {\n",
       "  float: right;\n",
       "  font-size: smaller;\n",
       "  line-height: 1em;\n",
       "  font-family: monospace;\n",
       "  background-color: var(--sklearn-color-background);\n",
       "  border-radius: 1em;\n",
       "  height: 1em;\n",
       "  width: 1em;\n",
       "  text-decoration: none !important;\n",
       "  margin-left: 1ex;\n",
       "  /* unfitted */\n",
       "  border: var(--sklearn-color-unfitted-level-1) 1pt solid;\n",
       "  color: var(--sklearn-color-unfitted-level-1);\n",
       "}\n",
       "\n",
       ".sk-estimator-doc-link.fitted,\n",
       "a:link.sk-estimator-doc-link.fitted,\n",
       "a:visited.sk-estimator-doc-link.fitted {\n",
       "  /* fitted */\n",
       "  border: var(--sklearn-color-fitted-level-1) 1pt solid;\n",
       "  color: var(--sklearn-color-fitted-level-1);\n",
       "}\n",
       "\n",
       "/* On hover */\n",
       "div.sk-estimator:hover .sk-estimator-doc-link:hover,\n",
       ".sk-estimator-doc-link:hover,\n",
       "div.sk-label-container:hover .sk-estimator-doc-link:hover,\n",
       ".sk-estimator-doc-link:hover {\n",
       "  /* unfitted */\n",
       "  background-color: var(--sklearn-color-unfitted-level-3);\n",
       "  color: var(--sklearn-color-background);\n",
       "  text-decoration: none;\n",
       "}\n",
       "\n",
       "div.sk-estimator.fitted:hover .sk-estimator-doc-link.fitted:hover,\n",
       ".sk-estimator-doc-link.fitted:hover,\n",
       "div.sk-label-container:hover .sk-estimator-doc-link.fitted:hover,\n",
       ".sk-estimator-doc-link.fitted:hover {\n",
       "  /* fitted */\n",
       "  background-color: var(--sklearn-color-fitted-level-3);\n",
       "  color: var(--sklearn-color-background);\n",
       "  text-decoration: none;\n",
       "}\n",
       "\n",
       "/* Span, style for the box shown on hovering the info icon */\n",
       ".sk-estimator-doc-link span {\n",
       "  display: none;\n",
       "  z-index: 9999;\n",
       "  position: relative;\n",
       "  font-weight: normal;\n",
       "  right: .2ex;\n",
       "  padding: .5ex;\n",
       "  margin: .5ex;\n",
       "  width: min-content;\n",
       "  min-width: 20ex;\n",
       "  max-width: 50ex;\n",
       "  color: var(--sklearn-color-text);\n",
       "  box-shadow: 2pt 2pt 4pt #999;\n",
       "  /* unfitted */\n",
       "  background: var(--sklearn-color-unfitted-level-0);\n",
       "  border: .5pt solid var(--sklearn-color-unfitted-level-3);\n",
       "}\n",
       "\n",
       ".sk-estimator-doc-link.fitted span {\n",
       "  /* fitted */\n",
       "  background: var(--sklearn-color-fitted-level-0);\n",
       "  border: var(--sklearn-color-fitted-level-3);\n",
       "}\n",
       "\n",
       ".sk-estimator-doc-link:hover span {\n",
       "  display: block;\n",
       "}\n",
       "\n",
       "/* \"?\"-specific style due to the `<a>` HTML tag */\n",
       "\n",
       "#sk-container-id-1 a.estimator_doc_link {\n",
       "  float: right;\n",
       "  font-size: 1rem;\n",
       "  line-height: 1em;\n",
       "  font-family: monospace;\n",
       "  background-color: var(--sklearn-color-background);\n",
       "  border-radius: 1rem;\n",
       "  height: 1rem;\n",
       "  width: 1rem;\n",
       "  text-decoration: none;\n",
       "  /* unfitted */\n",
       "  color: var(--sklearn-color-unfitted-level-1);\n",
       "  border: var(--sklearn-color-unfitted-level-1) 1pt solid;\n",
       "}\n",
       "\n",
       "#sk-container-id-1 a.estimator_doc_link.fitted {\n",
       "  /* fitted */\n",
       "  border: var(--sklearn-color-fitted-level-1) 1pt solid;\n",
       "  color: var(--sklearn-color-fitted-level-1);\n",
       "}\n",
       "\n",
       "/* On hover */\n",
       "#sk-container-id-1 a.estimator_doc_link:hover {\n",
       "  /* unfitted */\n",
       "  background-color: var(--sklearn-color-unfitted-level-3);\n",
       "  color: var(--sklearn-color-background);\n",
       "  text-decoration: none;\n",
       "}\n",
       "\n",
       "#sk-container-id-1 a.estimator_doc_link.fitted:hover {\n",
       "  /* fitted */\n",
       "  background-color: var(--sklearn-color-fitted-level-3);\n",
       "}\n",
       "</style><div id=\"sk-container-id-1\" class=\"sk-top-container\"><div class=\"sk-text-repr-fallback\"><pre>LinearRegression()</pre><b>In a Jupyter environment, please rerun this cell to show the HTML representation or trust the notebook. <br />On GitHub, the HTML representation is unable to render, please try loading this page with nbviewer.org.</b></div><div class=\"sk-container\" hidden><div class=\"sk-item\"><div class=\"sk-estimator fitted sk-toggleable\"><input class=\"sk-toggleable__control sk-hidden--visually\" id=\"sk-estimator-id-1\" type=\"checkbox\" checked><label for=\"sk-estimator-id-1\" class=\"sk-toggleable__label fitted sk-toggleable__label-arrow fitted\">&nbsp;&nbsp;LinearRegression<a class=\"sk-estimator-doc-link fitted\" rel=\"noreferrer\" target=\"_blank\" href=\"https://scikit-learn.org/1.5/modules/generated/sklearn.linear_model.LinearRegression.html\">?<span>Documentation for LinearRegression</span></a><span class=\"sk-estimator-doc-link fitted\">i<span>Fitted</span></span></label><div class=\"sk-toggleable__content fitted\"><pre>LinearRegression()</pre></div> </div></div></div></div>"
      ],
      "text/plain": [
       "LinearRegression()"
      ]
     },
     "execution_count": 107,
     "metadata": {},
     "output_type": "execute_result"
    }
   ],
   "source": [
    "###LiNEAR REGRESSION\n",
    "from sklearn.linear_model import LinearRegression\n",
    "lin_model = LinearRegression()\n",
    "lin_model.fit(X_train_lin, y_train_lin)\n"
   ]
  },
  {
   "cell_type": "code",
   "execution_count": 111,
   "id": "fef2eca1-a1e0-4c3c-b379-02102b95d91c",
   "metadata": {},
   "outputs": [
    {
     "name": "stdout",
     "output_type": "stream",
     "text": [
      "\u001b[1m65/65\u001b[0m \u001b[32m━━━━━━━━━━━━━━━━━━━━\u001b[0m\u001b[37m\u001b[0m \u001b[1m1s\u001b[0m 15ms/step\n"
     ]
    }
   ],
   "source": [
    "X_test_lstm = X_test.reshape((X_test.shape[0], X_test.shape[1], 1)) ##(400, 60, 1)\n",
    "lstm_predictions = lstm_model.predict(X_test_lstm)"
   ]
  },
  {
   "cell_type": "code",
   "execution_count": 113,
   "id": "735394f8-f237-4ec7-8734-786232a58ec0",
   "metadata": {},
   "outputs": [
    {
     "data": {
      "text/plain": [
       "array([[0.10830665],\n",
       "       [0.10773644],\n",
       "       [0.10709514],\n",
       "       ...,\n",
       "       [0.802181  ],\n",
       "       [0.8110388 ],\n",
       "       [0.8207888 ]], dtype=float32)"
      ]
     },
     "execution_count": 113,
     "metadata": {},
     "output_type": "execute_result"
    }
   ],
   "source": [
    "lstm_predictions"
   ]
  },
  {
   "cell_type": "code",
   "execution_count": 115,
   "id": "01dd83b1-9a68-416e-8abb-1595b462c150",
   "metadata": {},
   "outputs": [],
   "source": [
    "##convert to actual price\n",
    "lstm_predictions =  scaler.inverse_transform(lstm_predictions)"
   ]
  },
  {
   "cell_type": "code",
   "execution_count": 121,
   "id": "062bf47f-3d60-4329-ab1b-85b45ddc420e",
   "metadata": {},
   "outputs": [],
   "source": [
    "#lstm_predictions"
   ]
  },
  {
   "cell_type": "code",
   "execution_count": 123,
   "id": "ab1a8a39-dcd9-4e83-82d0-d63687d3dab1",
   "metadata": {},
   "outputs": [],
   "source": [
    "lin_predictions = lin_model.predict(X_test_lin)"
   ]
  },
  {
   "cell_type": "code",
   "execution_count": 125,
   "id": "b6064853-50bc-4294-a65c-955f4c245a18",
   "metadata": {},
   "outputs": [
    {
     "data": {
      "text/plain": [
       "array([0.09648872, 0.09712234, 0.09763815, ..., 0.90846277, 0.92793974,\n",
       "       0.93500065])"
      ]
     },
     "execution_count": 125,
     "metadata": {},
     "output_type": "execute_result"
    }
   ],
   "source": [
    "lin_predictions "
   ]
  },
  {
   "cell_type": "code",
   "execution_count": 127,
   "id": "0d434ca5-24e2-4674-9aec-3ef5cc9dba26",
   "metadata": {},
   "outputs": [],
   "source": [
    "lin_predictions = scaler.inverse_transform(lin_predictions.reshape(-1, 1))  ##1d array to 2d array"
   ]
  },
  {
   "cell_type": "code",
   "execution_count": 129,
   "id": "75135c61-a1df-4e2c-87a6-fa7d84e04921",
   "metadata": {},
   "outputs": [
    {
     "data": {
      "text/plain": [
       "array([[ 17.60627997],\n",
       "       [ 17.72157507],\n",
       "       [ 17.81543111],\n",
       "       ...,\n",
       "       [165.35379893],\n",
       "       [168.89784602],\n",
       "       [170.18265545]])"
      ]
     },
     "execution_count": 129,
     "metadata": {},
     "output_type": "execute_result"
    }
   ],
   "source": [
    "lin_predictions"
   ]
  },
  {
   "cell_type": "code",
   "execution_count": 149,
   "id": "a310a58d-4063-4dea-977b-d8abfe817071",
   "metadata": {},
   "outputs": [],
   "source": [
    "##fix shape mismatch-operands could not be broadcast together with shapes (2070,1) (2127,1) \n",
    "##solutions :trim the larger array  using min()\n",
    " \n",
    "min_length = min(len(lstm_predictions), len(lin_predictions))\n"
   ]
  },
  {
   "cell_type": "code",
   "execution_count": 151,
   "id": "910ca6aa-0a22-4d2b-ac96-6a7421331ce2",
   "metadata": {},
   "outputs": [
    {
     "data": {
      "text/plain": [
       "2070"
      ]
     },
     "execution_count": 151,
     "metadata": {},
     "output_type": "execute_result"
    }
   ],
   "source": [
    "min_length"
   ]
  },
  {
   "cell_type": "code",
   "execution_count": 139,
   "id": "62217138-c590-4120-86d1-9a46a4011dfa",
   "metadata": {},
   "outputs": [],
   "source": [
    "\n",
    "lstm_predictions = lstm_predictions[:min_length]"
   ]
  },
  {
   "cell_type": "code",
   "execution_count": 143,
   "id": "84a2f7b9-7432-4402-8dd4-faaa3475635a",
   "metadata": {},
   "outputs": [
    {
     "data": {
      "text/plain": [
       "(2070, 1)"
      ]
     },
     "execution_count": 143,
     "metadata": {},
     "output_type": "execute_result"
    }
   ],
   "source": [
    "lstm_predictions.shape"
   ]
  },
  {
   "cell_type": "code",
   "execution_count": 147,
   "id": "6482129a-159e-43f9-a7a1-9b5f76549e90",
   "metadata": {},
   "outputs": [
    {
     "data": {
      "text/plain": [
       "(2070, 1)"
      ]
     },
     "execution_count": 147,
     "metadata": {},
     "output_type": "execute_result"
    }
   ],
   "source": [
    "lin_predictions = lin_predictions[:min_length]\n",
    "lin_predictions.shape"
   ]
  },
  {
   "cell_type": "code",
   "execution_count": 161,
   "id": "1e225f5d-35cd-44b1-8105-9c95c0c9c596",
   "metadata": {},
   "outputs": [],
   "source": [
    "#weight = 0.8 and 0.2 means, lstm model given 70% importance \n",
    "hybrid_predictions = (0.8 * lstm_predictions) + (0.2 * lin_predictions)"
   ]
  },
  {
   "cell_type": "code",
   "execution_count": 194,
   "id": "cecb9981-fa44-4f9d-ba47-5f76582435ed",
   "metadata": {},
   "outputs": [
    {
     "name": "stdout",
     "output_type": "stream",
     "text": [
      "\u001b[1m1/1\u001b[0m \u001b[32m━━━━━━━━━━━━━━━━━━━━\u001b[0m\u001b[37m\u001b[0m \u001b[1m0s\u001b[0m 31ms/step\n",
      "\u001b[1m1/1\u001b[0m \u001b[32m━━━━━━━━━━━━━━━━━━━━\u001b[0m\u001b[37m\u001b[0m \u001b[1m0s\u001b[0m 33ms/step\n",
      "\u001b[1m1/1\u001b[0m \u001b[32m━━━━━━━━━━━━━━━━━━━━\u001b[0m\u001b[37m\u001b[0m \u001b[1m0s\u001b[0m 29ms/step\n",
      "\u001b[1m1/1\u001b[0m \u001b[32m━━━━━━━━━━━━━━━━━━━━\u001b[0m\u001b[37m\u001b[0m \u001b[1m0s\u001b[0m 25ms/step\n",
      "\u001b[1m1/1\u001b[0m \u001b[32m━━━━━━━━━━━━━━━━━━━━\u001b[0m\u001b[37m\u001b[0m \u001b[1m0s\u001b[0m 24ms/step\n",
      "\u001b[1m1/1\u001b[0m \u001b[32m━━━━━━━━━━━━━━━━━━━━\u001b[0m\u001b[37m\u001b[0m \u001b[1m0s\u001b[0m 24ms/step\n",
      "\u001b[1m1/1\u001b[0m \u001b[32m━━━━━━━━━━━━━━━━━━━━\u001b[0m\u001b[37m\u001b[0m \u001b[1m0s\u001b[0m 26ms/step\n",
      "\u001b[1m1/1\u001b[0m \u001b[32m━━━━━━━━━━━━━━━━━━━━\u001b[0m\u001b[37m\u001b[0m \u001b[1m0s\u001b[0m 25ms/step\n",
      "\u001b[1m1/1\u001b[0m \u001b[32m━━━━━━━━━━━━━━━━━━━━\u001b[0m\u001b[37m\u001b[0m \u001b[1m0s\u001b[0m 24ms/step\n",
      "\u001b[1m1/1\u001b[0m \u001b[32m━━━━━━━━━━━━━━━━━━━━\u001b[0m\u001b[37m\u001b[0m \u001b[1m0s\u001b[0m 25ms/step\n"
     ]
    }
   ],
   "source": [
    "lstm_future_predictions = np.array([]).reshape(0, 1)  # Initialize as an empty 2D array\n",
    "\n",
    "last_sequence = X[-1].reshape(1, seq_length, 1)  # Get last known sequence\n",
    "for _ in range(10):\n",
    "    lstm_pred = lstm_model.predict(last_sequence)[0, 0]  # Predict next value\n",
    "    \n",
    "    # Convert prediction to a 2D array before concatenation\n",
    "    lstm_future_predictions = np.concatenate((lstm_future_predictions, np.array([[lstm_pred]])))\n",
    "    \n",
    "    # Reshape and update sequence for next step\n",
    "    lstm_pred_reshaped = np.array([[[lstm_pred]]])  # Ensure it's 3D\n",
    "    last_sequence = np.append(last_sequence[:, 1:, :], lstm_pred_reshaped, axis=1)\n",
    "\n",
    "# Convert predictions back to the original scale\n",
    "lstm_future_predictions = scaler.inverse_transform(lstm_future_predictions)\n"
   ]
  },
  {
   "cell_type": "code",
   "execution_count": 196,
   "id": "91d418be-4fa0-4c6b-9a58-b3983f675806",
   "metadata": {},
   "outputs": [],
   "source": [
    "recent_data = data['Close'].values[-3:]  ##last 3 values"
   ]
  },
  {
   "cell_type": "code",
   "execution_count": 248,
   "id": "f2a19a91-5c45-400e-b83c-88712fc55bf9",
   "metadata": {},
   "outputs": [
    {
     "data": {
      "text/plain": [
       "array([0.92840579])"
      ]
     },
     "execution_count": 248,
     "metadata": {},
     "output_type": "execute_result"
    }
   ],
   "source": [
    "recent_data\n"
   ]
  },
  {
   "cell_type": "code",
   "execution_count": 270,
   "id": "ff3aa3a9-7154-4db7-80fe-7ba0d7ff984f",
   "metadata": {},
   "outputs": [],
   "source": [
    "recent_data = data['Close'].values[-3:] ## last 3 values\n",
    "lin_future_predictions = []\n",
    "\n",
    "for _ in range(10): \n",
    "    lin_pred = lin_model.predict(recent_data.reshape(1, -1))[0]\n",
    "    \n",
    "    lin_future_predictions.append(lin_pred)\n",
    "    \n",
    "    recent_data = np.append(recent_data[1:], lin_pred)\n",
    "    \n",
    "lin_future_predictions = scaler.inverse_transform(np.array(lin_future_predictions).reshape(-1, 1))"
   ]
  },
  {
   "cell_type": "code",
   "execution_count": null,
   "id": "4cc25d24-c6ae-43d5-ad41-b06308b8e0bf",
   "metadata": {},
   "outputs": [],
   "source": []
  },
  {
   "cell_type": "code",
   "execution_count": 273,
   "id": "ab11c868-3911-4e92-9a6b-48680464aa5d",
   "metadata": {},
   "outputs": [],
   "source": [
    "hybrid_future_predictions = (0.8 * lstm_future_predictions) + (0.2 * lin_future_predictions)"
   ]
  },
  {
   "cell_type": "code",
   "execution_count": 275,
   "id": "837ed41b-9492-412f-8b0a-4c50bd0cdce7",
   "metadata": {},
   "outputs": [
    {
     "data": {
      "text/plain": [
       "array([[153.31697387],\n",
       "       [153.2089896 ],\n",
       "       [152.8072235 ],\n",
       "       [150.04337274],\n",
       "       [148.1867858 ],\n",
       "       [147.00780165],\n",
       "       [143.86893946],\n",
       "       [141.82259314],\n",
       "       [140.7545516 ],\n",
       "       [137.7483626 ]])"
      ]
     },
     "execution_count": 275,
     "metadata": {},
     "output_type": "execute_result"
    }
   ],
   "source": [
    "hybrid_future_predictions"
   ]
  },
  {
   "cell_type": "raw",
   "id": "cf904185-f044-4434-afb0-7d5c5d81b571",
   "metadata": {},
   "source": []
  },
  {
   "cell_type": "code",
   "execution_count": 277,
   "id": "8ecfd1a0-671f-4b7d-bd7e-f8ddbf8af110",
   "metadata": {},
   "outputs": [
    {
     "name": "stdout",
     "output_type": "stream",
     "text": [
      "        Date  LSTM Predictions  Linear Regression Predictions  \\\n",
      "0 2022-03-25        149.400555                     168.982649   \n",
      "1 2022-03-26        149.003580                     170.030627   \n",
      "2 2022-03-27        147.443674                     174.261422   \n",
      "3 2022-03-28        145.263219                     169.163988   \n",
      "4 2022-03-29        142.772490                     169.843970   \n",
      "5 2022-03-30        140.149530                     174.440889   \n",
      "6 2022-03-31        137.495085                     169.364359   \n",
      "7 2022-04-01        134.865455                     169.651148   \n",
      "8 2022-04-02        132.291441                     174.606993   \n",
      "9 2022-04-03        129.789454                     169.583996   \n",
      "\n",
      "   Hybrid Model Predictions  \n",
      "0                153.316974  \n",
      "1                153.208990  \n",
      "2                152.807223  \n",
      "3                150.043373  \n",
      "4                148.186786  \n",
      "5                147.007802  \n",
      "6                143.868939  \n",
      "7                141.822593  \n",
      "8                140.754552  \n",
      "9                137.748363  \n"
     ]
    }
   ],
   "source": [
    "future_dates = pd.date_range(start=data.index[-1] + pd.Timedelta(days=1), periods=10)\n",
    "predictions_df = pd.DataFrame({\n",
    "    'Date': future_dates,\n",
    "    'LSTM Predictions': lstm_future_predictions.flatten(),\n",
    "    'Linear Regression Predictions': lin_future_predictions.flatten(),\n",
    "    'Hybrid Model Predictions': hybrid_future_predictions.flatten()\n",
    "})\n",
    "print(predictions_df)"
   ]
  },
  {
   "cell_type": "code",
   "execution_count": null,
   "id": "5446059c-8c8d-4701-94d3-ed118c8a55e8",
   "metadata": {},
   "outputs": [],
   "source": []
  },
  {
   "cell_type": "code",
   "execution_count": null,
   "id": "eeecc14e-4909-46cf-8785-44ae1f91f158",
   "metadata": {},
   "outputs": [],
   "source": []
  },
  {
   "cell_type": "code",
   "execution_count": null,
   "id": "71894434-8a0a-493b-9983-97ca4fc55931",
   "metadata": {},
   "outputs": [],
   "source": []
  }
 ],
 "metadata": {
  "kernelspec": {
   "display_name": "Python 3 (ipykernel)",
   "language": "python",
   "name": "python3"
  },
  "language_info": {
   "codemirror_mode": {
    "name": "ipython",
    "version": 3
   },
   "file_extension": ".py",
   "mimetype": "text/x-python",
   "name": "python",
   "nbconvert_exporter": "python",
   "pygments_lexer": "ipython3",
   "version": "3.12.4"
  }
 },
 "nbformat": 4,
 "nbformat_minor": 5
}
